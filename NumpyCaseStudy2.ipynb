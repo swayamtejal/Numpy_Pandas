{
 "cells": [
  {
   "cell_type": "markdown",
   "metadata": {},
   "source": [
    "# Numpy Case Study2"
   ]
  },
  {
   "cell_type": "markdown",
   "metadata": {},
   "source": [
    "***"
   ]
  },
  {
   "cell_type": "code",
   "execution_count": 1,
   "metadata": {},
   "outputs": [],
   "source": [
    "import numpy as np"
   ]
  },
  {
   "cell_type": "markdown",
   "metadata": {},
   "source": [
    "### 1.Create two matrices of 3*3 and perform the arithmetic operations metioned in below \"print\" statements"
   ]
  },
  {
   "cell_type": "code",
   "execution_count": 2,
   "metadata": {},
   "outputs": [
    {
     "name": "stdout",
     "output_type": "stream",
     "text": [
      "\n",
      "1st Matrix of random single-digit numbers\n",
      "----------------------------------------\n",
      " [[2 2 2]\n",
      " [3 1 9]\n",
      " [8 7 9]]\n",
      "\n",
      "2nd Matrix of random single-digit numbers\n",
      "----------------------------------------\n",
      " [[6 6 2]\n",
      " [8 1 8]\n",
      " [5 3 9]]\n",
      "\n",
      "Addition\n",
      "------------------\n",
      " [[ 8  8  4]\n",
      " [11  2 17]\n",
      " [13 10 18]]\n",
      "\n",
      "Multiplication\n",
      "------------------\n",
      " [[12 12  4]\n",
      " [24  1 72]\n",
      " [40 21 81]]\n",
      "\n",
      "Division\n",
      "------------------\n",
      " [[0.33333333 0.33333333 1.        ]\n",
      " [0.375      1.         1.125     ]\n",
      " [1.6        2.33333333 1.        ]]\n",
      "\n",
      "Linear combination: 3*A - 2*B\n",
      "-----------------------------\n",
      " [[-6 -6  2]\n",
      " [-7  1 11]\n",
      " [14 15  9]]\n",
      "\n",
      "Addition of a scalar (100)\n",
      "-------------------------\n",
      " [[102 102 102]\n",
      " [103 101 109]\n",
      " [108 107 109]]\n",
      "\n",
      "Exponentiation, matrix cubed here\n",
      "----------------------------------------\n",
      " [[  8   8   8]\n",
      " [ 27   1 729]\n",
      " [512 343 729]]\n",
      "\n",
      "Exponentiation, mat1 sq-root using pow function\n",
      "-------------------------------------------\n",
      " [[1.41421356 1.41421356 1.41421356]\n",
      " [1.73205081 1.         3.        ]\n",
      " [2.82842712 2.64575131 3.        ]]\n"
     ]
    }
   ],
   "source": [
    "from numpy.random import randint as ri\n",
    "mat1 = np.array(ri(1,10,9).reshape(3,3))\n",
    "mat2 = np.array(ri(1,10,9).reshape(3,3))\n",
    "print(\"\\n1st Matrix of random single-digit numbers\\n----------------------------------------\\n\",mat1)\n",
    "print(\"\\n2nd Matrix of random single-digit numbers\\n----------------------------------------\\n\",mat2)\n",
    "\n",
    "\n",
    "print(\"\\nAddition\\n------------------\\n\", mat1+mat2)\n",
    "print(\"\\nMultiplication\\n------------------\\n\", mat1*mat2)\n",
    "\n",
    "\n",
    "print(\"\\nDivision\\n------------------\\n\",mat1/mat2)\n",
    "print(\"\\nLinear combination: 3*A - 2*B\\n-----------------------------\\n\", +(3*mat1-2*mat2))\n",
    "\n",
    "\n",
    "print(\"\\nAddition of a scalar (100)\\n-------------------------\\n\", 100+mat1)\n",
    "\n",
    "\n",
    "print(\"\\nExponentiation, matrix cubed here\\n----------------------------------------\\n\", mat1**3)\n",
    "print(\"\\nExponentiation, mat1 sq-root using pow function\\n-------------------------------------------\\n\",mat1**0.5)"
   ]
  },
  {
   "cell_type": "markdown",
   "metadata": {},
   "source": [
    "Some operations, such as += and *=, act in place to modify an existing array rather than create a new one."
   ]
  },
  {
   "cell_type": "markdown",
   "metadata": {},
   "source": [
    "NumPy provides familiar mathematical functions such as sin, cos, and exp. In NumPy, these are called “universal functions”(ufunc). Within NumPy, these functions operate elementwise on an array, producing an array as output."
   ]
  },
  {
   "cell_type": "markdown",
   "metadata": {},
   "source": [
    "### 2.Create two 3 * 3 matrices and perform the following operations as describe in print statement."
   ]
  },
  {
   "cell_type": "code",
   "execution_count": 3,
   "metadata": {},
   "outputs": [
    {
     "name": "stdout",
     "output_type": "stream",
     "text": [
      "\n",
      "1st Matrix of random single-digit numbers\n",
      " -------------------------------------------------- \n",
      " [[6 4 5]\n",
      " [2 1 4]\n",
      " [4 1 6]]\n",
      "\n",
      "2nd Matrix of random single-digit numbers\n",
      " -------------------------------------------------- \n",
      " [[5 5 6]\n",
      " [9 9 5]\n",
      " [9 3 5]]\n",
      "\n",
      "Sum of all numbers in 1st matrix\n",
      " -------------------------------------------------- \n",
      " 33\n",
      "\n",
      "Sum of all numbers in columns of 1st matrix\n",
      " -------------------------------------------------- \n",
      " [12  6 15]\n",
      "\n",
      "Sum of all numbers in rows of 1st matrix\n",
      " -------------------------------------------------- \n",
      " [15  7 11]\n",
      "\n",
      "Product of all numbers in rows of 1st matrix\n",
      " -------------------------------------------------- \n",
      " 23040\n",
      "\n",
      "Product of all numbers in columns of 2nd matrix\n",
      " -------------------------------------------------- \n",
      " [405 135 150]\n",
      "\n",
      "Mean of all numbers in 1st matrix\n",
      " -------------------------------------------------- \n",
      " 3.6666666666666665\n",
      "\n",
      "Standard deviation of all numbers in 1st matrix\n",
      " -------------------------------------------------- \n",
      " 1.8257418583505538\n",
      "\n",
      "Modified matrix of random numbers from 1 to 99\n",
      " -------------------------------------------------- \n",
      " [[92 69 48]\n",
      " [67 48 82]\n",
      " [69 48 48]]\n",
      "\n",
      "Standard deviation of all numbers in the modified matrix, a larger number\n",
      " -------------------------------------------------------------------------------- \n",
      " 15.592812525940783\n",
      "\n",
      "Variance of all numbers in the modified matrix, a larger number\n",
      " -------------------------------------------------------------------------------- \n",
      " 243.1358024691358\n",
      "\n",
      "Median of all numbers in the modified matrix\n",
      " ------------------------------------------------------------ \n",
      " 67.0\n"
     ]
    }
   ],
   "source": [
    "from numpy.random import randint as ri\n",
    "mat1 = ri(1,10,9).reshape(3,3)\n",
    "mat2 = ri(1,10,9).reshape(3,3)\n",
    "print(\"\\n1st Matrix of random single-digit numbers\\n\",\"-\"*50,\"\\n\",mat1)\n",
    "print(\"\\n2nd Matrix of random single-digit numbers\\n\",\"-\"*50,\"\\n\",mat2)\n",
    "\n",
    "\n",
    "print(\"\\nSum of all numbers in 1st matrix\\n\",\"-\"*50,\"\\n\",np.sum(mat1))\n",
    "print(\"\\nSum of all numbers in columns of 1st matrix\\n\",\"-\"*50,\"\\n\",np.sum(mat1,axis=0))\n",
    "\n",
    "\n",
    "print(\"\\nSum of all numbers in rows of 1st matrix\\n\",\"-\"*50,\"\\n\",np.sum(mat1,axis=1))\n",
    "print(\"\\nProduct of all numbers in rows of 1st matrix\\n\",\"-\"*50,\"\\n\",np.product(mat1))\n",
    "\n",
    "\n",
    "print(\"\\nProduct of all numbers in columns of 2nd matrix\\n\",\"-\"*50,\"\\n\",np.product(mat2,axis=0))\n",
    "print(\"\\nMean of all numbers in 1st matrix\\n\",\"-\"*50,\"\\n\",np.mean(mat1))\n",
    "\n",
    "\n",
    "print(\"\\nStandard deviation of all numbers in 1st matrix\\n\",\"-\"*50,\"\\n\",np.std(mat1))\n",
    "\n",
    "\n",
    "mat1 = ri(1,99,9).reshape(3,3)\n",
    "print(\"\\nModified matrix of random numbers from 1 to 99\\n\",\"-\"*50,\"\\n\",mat1)\n",
    "\n",
    "\n",
    "print(\"\\nStandard deviation of all numbers in the modified matrix, a larger number\\n\",\"-\"*80,\"\\n\",np.std(mat1))\n",
    "\n",
    "\n",
    "print(\"\\nVariance of all numbers in the modified matrix, a larger number\\n\",\"-\"*80,\"\\n\",np.var(mat1))\n",
    "\n",
    "\n",
    "print(\"\\nMedian of all numbers in the modified matrix\\n\",\"-\"*60,\"\\n\",np.median(mat1))\n"
   ]
  },
  {
   "cell_type": "markdown",
   "metadata": {},
   "source": [
    "###  3.Create a 3 \\* 3 Matrix and Modify its shape to 9\\*1 matrix."
   ]
  },
  {
   "cell_type": "code",
   "execution_count": 4,
   "metadata": {},
   "outputs": [
    {
     "name": "stdout",
     "output_type": "stream",
     "text": [
      "\n",
      "3*3 Matrix \n",
      " ------------------------- \n",
      " [[3 6 5]\n",
      " [9 9 1]\n",
      " [2 5 6]]\n",
      "\n",
      "Modified Matrix of shape 9*1\n",
      " ------------------------- \n",
      " [[3]\n",
      " [6]\n",
      " [5]\n",
      " [9]\n",
      " [9]\n",
      " [1]\n",
      " [2]\n",
      " [5]\n",
      " [6]]\n"
     ]
    }
   ],
   "source": [
    "mat=ri(1,20,10)\n",
    "mat1 = ri(1,10,9).reshape(3,3)\n",
    "print(\"\\n3*3 Matrix \\n\",\"-\"*25,\"\\n\",mat1)\n",
    "mat=mat1.reshape(9,1)\n",
    "print(\"\\nModified Matrix of shape 9*1\\n\",\"-\"*25,\"\\n\",mat)"
   ]
  },
  {
   "cell_type": "markdown",
   "metadata": {},
   "source": [
    "### 4.Sort"
   ]
  },
  {
   "cell_type": "code",
   "execution_count": 5,
   "metadata": {},
   "outputs": [
    {
     "name": "stdout",
     "output_type": "stream",
     "text": [
      "\n",
      "Vector of 10 random integers from 1 to 100\n",
      " -------------------------------------------------- \n",
      " [45 92 75 91 51 54 34 62 22 47]\n",
      "\n",
      "Here is the sorted vector\n",
      " -------------------------------------------------- \n",
      " [22 34 45 47 51 54 62 75 91 92]\n"
     ]
    }
   ],
   "source": [
    "A = ri(1,100,10) # Vector of random interegrs\n",
    "print(\"\\nVector of 10 random integers from 1 to 100\\n\",'-'*50,\"\\n\",A)\n",
    "print(\"\\nHere is the sorted vector\\n\",'-'*50,\"\\n\",np.sort(A,kind='mergesort'))\n"
   ]
  },
  {
   "cell_type": "code",
   "execution_count": 6,
   "metadata": {},
   "outputs": [
    {
     "name": "stdout",
     "output_type": "stream",
     "text": [
      "\n",
      "5x5 Matrix of random integers\n",
      " -------------------------------------------------- \n",
      " [[90 75 86 23 88]\n",
      " [69 37 43 12  8]\n",
      " [ 5 65 19 54 60]\n",
      " [30 91 76 41 77]\n",
      " [53 38  1 45 24]]\n",
      "\n",
      "Here is the sorted matrix along each row\n",
      " -------------------------------------------------- \n",
      " [[23 75 86 88 90]\n",
      " [ 8 12 37 43 69]\n",
      " [ 5 19 54 60 65]\n",
      " [30 41 76 77 91]\n",
      " [ 1 24 38 45 53]]\n",
      "\n",
      "Here is the sorted matrix along each column\n",
      " -------------------------------------------------- \n",
      " [[ 5 37  1 12  8]\n",
      " [30 38 19 23 24]\n",
      " [53 65 43 41 60]\n",
      " [69 75 76 45 77]\n",
      " [90 91 86 54 88]]\n"
     ]
    }
   ],
   "source": [
    "M = ri(1,100,25).reshape(5,5) #  5*5 Matrix of random interegrs\n",
    "print(\"\\n5x5 Matrix of random integers\\n\",'-'*50,\"\\n\",M)\n",
    "print(\"\\nHere is the sorted matrix along each row\\n\",'-'*50,\"\\n\",np.sort(M,kind='mergesort')) # Default axis =1\n",
    "print(\"\\nHere is the sorted matrix along each column\\n\",'-'*50,\"\\n\",np.sort(M,axis=0,kind='mergesort',))"
   ]
  },
  {
   "cell_type": "markdown",
   "metadata": {},
   "source": [
    "### 5.Create a,b,c  10 element vectors of random integers and perform the respective operation mentioned in print statement"
   ]
  },
  {
   "cell_type": "code",
   "execution_count": 7,
   "metadata": {},
   "outputs": [
    {
     "name": "stdout",
     "output_type": "stream",
     "text": [
      "\n",
      "a\n",
      " -------------------------------------------------- \n",
      " [[97 86]\n",
      " [18 10]\n",
      " [ 4 67]\n",
      " [90  6]\n",
      " [70  4]]\n",
      "\n",
      "b\n",
      " -------------------------------------------------- \n",
      " [[ 8 38  9 30 42]\n",
      " [ 5 25  3  8 37]]\n",
      "\n",
      "c\n",
      " -------------------------------------------------- \n",
      " [[32 46]\n",
      " [48 29]\n",
      " [42 35]\n",
      " [34 48]\n",
      " [49 31]]\n",
      "Max of a: 97\n",
      "Max of b: 42\n",
      "Max of a location: 0\n",
      "Max of b location: 4\n",
      "Max of c location: 8\n",
      "\n",
      "a\n",
      " -------------------------------------------------- \n",
      " [[15 17]\n",
      " [19 15]\n",
      " [ 6  5]\n",
      " [ 4 12]\n",
      " [14 11]]\n",
      "\n",
      "b\n",
      " -------------------------------------------------- \n",
      " [[57 89]\n",
      " [68 30]\n",
      " [26  7]\n",
      " [64 77]\n",
      " [65 76]]\n",
      "\n",
      "c\n",
      " -------------------------------------------------- \n",
      " [[182  36]\n",
      " [ 82  88]\n",
      " [126  39]\n",
      " [100  87]\n",
      " [ 25 116]]\n",
      "Max of a: 19\n",
      "Max of b: 89\n",
      "Max of a location: 2\n",
      "Max of b location: 1\n",
      "Max of c location: 0\n"
     ]
    }
   ],
   "source": [
    "# Fill the following ***** with appropriate solution.\n",
    "a=ri(1,100,10).reshape(5,2)\n",
    "b=ri(1,50,10).reshape(2,5)\n",
    "c=ri(25,50,10).reshape(5,2)\n",
    "\n",
    "print(\"\\na\\n\",'-'*50,\"\\n\",a)\n",
    "\n",
    "print(\"\\nb\\n\",'-'*50,\"\\n\",b)\n",
    "\n",
    "print(\"\\nc\\n\",'-'*50,\"\\n\",c)\n",
    "\n",
    "print(\"Max of a:\",a.max())\n",
    "print(\"Max of b:\",b.max())\n",
    "\n",
    "\n",
    "print(\"Max of a location:\", a.argmax())\n",
    "print(\"Max of b location:\", b.argmax())\n",
    "print(\"Max of c location:\", c.argmax())\n",
    "\n",
    "a=ri(1,20,10).reshape(5,2)\n",
    "b=ri(1,100,10).reshape(5,2)\n",
    "c=ri(1,200,10).reshape(5,2)\n",
    "\n",
    "print(\"\\na\\n\",'-'*50,\"\\n\",a)\n",
    "\n",
    "print(\"\\nb\\n\",'-'*50,\"\\n\",b)\n",
    "\n",
    "print(\"\\nc\\n\",'-'*50,\"\\n\",c)\n",
    "\n",
    "print(\"Max of a:\",a.max())\n",
    "print(\"Max of b:\",b.max())\n",
    "\n",
    "\n",
    "print(\"Max of a location:\", a.argmax())\n",
    "print(\"Max of b location:\", b.argmax())\n",
    "print(\"Max of c location:\", c.argmax())\n",
    "\n"
   ]
  },
  {
   "cell_type": "markdown",
   "metadata": {},
   "source": [
    "## Universal functions\n",
    "\n",
    "6. Create 3*3 matrices of random single-digit numbers.<br/>\n",
    "Apply universal functions on it. (square root,exponetial,log10,Modulo etc.)"
   ]
  },
  {
   "cell_type": "code",
   "execution_count": 8,
   "metadata": {},
   "outputs": [
    {
     "name": "stdout",
     "output_type": "stream",
     "text": [
      "\n",
      "1st Matrix of random single-digit numbers\n",
      "----------------------------------------\n",
      " [[9 7 1]\n",
      " [2 1 4]\n",
      " [1 9 2]]\n",
      "\n",
      "2nd Matrix of random single-digit numbers\n",
      "----------------------------------------\n",
      " [[5 2 5]\n",
      " [7 5 3]\n",
      " [5 6 5]]\n",
      "\n",
      "Sq-root of 1st matrix using np\n",
      "------------------\n",
      " [[3.         2.64575131 1.        ]\n",
      " [1.41421356 1.         2.        ]\n",
      " [1.         3.         1.41421356]]\n",
      "\n",
      "Exponential power of 1st matrix using np\n",
      " -------------------------------------------------- \n",
      " [[8.10308393e+03 1.09663316e+03 2.71828183e+00]\n",
      " [7.38905610e+00 2.71828183e+00 5.45981500e+01]\n",
      " [2.71828183e+00 8.10308393e+03 7.38905610e+00]]\n",
      "\n",
      "10-base logarithm on 1st matrix using np\n",
      " -------------------------------------------------- \n",
      " [[0.95424251 0.84509804 0.        ]\n",
      " [0.30103    0.         0.60205999]\n",
      " [0.         0.95424251 0.30103   ]]\n",
      "\n",
      "Modulo reminder using np\n",
      " -------------------------------------------------- \n",
      " [[4 1 1]\n",
      " [2 1 1]\n",
      " [1 3 2]]\n"
     ]
    }
   ],
   "source": [
    "mat1 = ri(1,10,9).reshape(3,3)\n",
    "mat2 = ri(1,10,9).reshape(3,3)\n",
    "print(\"\\n1st Matrix of random single-digit numbers\\n----------------------------------------\\n\",mat1)\n",
    "print(\"\\n2nd Matrix of random single-digit numbers\\n----------------------------------------\\n\",mat2)\n",
    "\n",
    "\n",
    "print(\"\\nSq-root of 1st matrix using np\\n------------------\\n\", np.sqrt(mat1))\n",
    "\n",
    "\n",
    "print(\"\\nExponential power of 1st matrix using np\\n\",'-'*50,\"\\n\", np.exp(mat1))\n",
    "\n",
    "\n",
    "print(\"\\n10-base logarithm on 1st matrix using np\\n\",'-'*50,\"\\n\",np.log10(mat1))\n",
    "\n",
    "\n",
    "print(\"\\nModulo reminder using np\\n\",'-'*50,\"\\n\", np.fmod(mat1,mat2))\n"
   ]
  },
  {
   "cell_type": "markdown",
   "metadata": {},
   "source": [
    "### 7.Generating matrices from distributions"
   ]
  },
  {
   "cell_type": "code",
   "execution_count": 9,
   "metadata": {},
   "outputs": [
    {
     "name": "stdout",
     "output_type": "stream",
     "text": [
      "Random number generation (from Uniform distribution)\n",
      "[[0.6435129  0.0141514  0.15771237]\n",
      " [0.53854395 0.60591671 0.6692417 ]]\n",
      "Numbers from Normal distribution with zero mean and standard deviation 1 i.e. standard normal\n",
      "[[-0.88386645 -0.12242978 -1.64800994]\n",
      " [-0.94735523  1.01113034  1.44567162]]\n",
      "Random integer vector: [20 77 58 47 10  8 22 53 92 64]\n",
      "\n",
      "Random integer matrix\n",
      "[ 7  9 35 36 48 76 96 51 63 28]\n"
     ]
    }
   ],
   "source": [
    "print(\"Random number generation (from Uniform distribution)\")\n",
    "print(np.random.uniform(0,1,6).reshape(2,3)) # 2 by 3 matrix with random numbers ranging from 0 to 1, Note no Tuple is necessary \n",
    "print(\"Numbers from Normal distribution with zero mean and standard deviation 1 i.e. standard normal\")\n",
    "print(np.random.normal(0, 1, 6).reshape(2,3))\n",
    "print(\"Random integer vector:\",np.random.randint(1,100,10)) #randint (low, high, # of samples to be drawn)\n",
    "print (\"\\nRandom integer matrix\")\n",
    "print(np.random.randint(1,100,10)) #randint (low, high, # of samples to be drawn in a tuple to form a matrix)\n"
   ]
  },
  {
   "cell_type": "code",
   "execution_count": 10,
   "metadata": {},
   "outputs": [
    {
     "name": "stdout",
     "output_type": "stream",
     "text": [
      "Random number generation (from Uniform distribution)\n",
      "[[0.7179444  0.46045301 0.96236796]\n",
      " [0.60154003 0.21431962 0.03789327]]\n",
      "\n",
      "Numbers from Normal distribution with zero mean and standard deviation 1 i.e. standard normal\n",
      "[[-0.25591927  0.69217262 -1.51023883]\n",
      " [ 1.3578843   0.28967137 -0.70102506]\n",
      " [-0.33001218  0.17878466  0.59816539]\n",
      " [ 0.51413542  0.14285419 -1.76361922]]\n",
      "\n",
      "Random integer vector: [11 10 29 97 51 20 49 57 72 73]\n",
      "\n",
      "Random integer matrix\n",
      "[[39 16 69  4]\n",
      " [28 36 33 36]\n",
      " [22 64 81 90]\n",
      " [38 78 23 93]]\n",
      "\n",
      "20 samples drawn from a dice throw: [2 4 5 6 5 2 1 1 5 2 3 4 1 4 5 2 1 2 1 1]\n"
     ]
    }
   ],
   "source": [
    "print(\"Random number generation (from Uniform distribution)\")\n",
    "print(np.random.rand(2,3)) # 2 by 3 matrix with random numbers ranging from 0 to 1, Note no Tuple is necessary \n",
    "\n",
    "print(\"\\nNumbers from Normal distribution with zero mean and standard deviation 1 i.e. standard normal\")\n",
    "print(np.random.randn(4,3))\n",
    "\n",
    "print(\"\\nRandom integer vector:\",np.random.randint(1,100,10)) #randint (low, high, # of samples to be drawn)\n",
    "print (\"\\nRandom integer matrix\")\n",
    "print(np.random.randint(1,100,(4,4))) #randint (low, high, # of samples to be drawn in a tuple to form a matrix)\n",
    "\n",
    "print(\"\\n20 samples drawn from a dice throw:\",np.random.randint(1,7,20)) # 20 samples drawn from a dice throw"
   ]
  },
  {
   "cell_type": "markdown",
   "metadata": {},
   "source": [
    "### 8.Find the nearest value from a given number in an array using NumPy."
   ]
  },
  {
   "cell_type": "code",
   "execution_count": 11,
   "metadata": {},
   "outputs": [
    {
     "name": "stdout",
     "output_type": "stream",
     "text": [
      "Array of elements :  [ 2.48338231 11.02144672  5.93604664  5.20318476  6.46186375]\n",
      "5.203184760722424\n"
     ]
    }
   ],
   "source": [
    "import numpy as np\n",
    "x = np.random.uniform(1, 12, 5)\n",
    "print(\"Array of elements : \",x)\n",
    "v = 4\n",
    "n = x.flat[np.abs(x - v).argmin()]\n",
    "print(n)"
   ]
  },
  {
   "cell_type": "markdown",
   "metadata": {},
   "source": [
    "### 9.Write code using numpy to produce following output\n",
    "[[0 0 0] [0 1 2] [0 2 4]]"
   ]
  },
  {
   "cell_type": "code",
   "execution_count": 12,
   "metadata": {},
   "outputs": [
    {
     "name": "stdout",
     "output_type": "stream",
     "text": [
      "[[0 0 0]\n",
      " [0 1 2]\n",
      " [0 2 4]]\n"
     ]
    }
   ],
   "source": [
    "A =np.array([[0,0,0],[0,1,2],[0,2,4]])\n",
    "\n",
    "print(A) \n"
   ]
  },
  {
   "cell_type": "markdown",
   "metadata": {},
   "source": [
    "***"
   ]
  }
 ],
 "metadata": {
  "kernelspec": {
   "display_name": "Python 3",
   "language": "python",
   "name": "python3"
  },
  "language_info": {
   "codemirror_mode": {
    "name": "ipython",
    "version": 3
   },
   "file_extension": ".py",
   "mimetype": "text/x-python",
   "name": "python",
   "nbconvert_exporter": "python",
   "pygments_lexer": "ipython3",
   "version": "3.7.1"
  }
 },
 "nbformat": 4,
 "nbformat_minor": 2
}
